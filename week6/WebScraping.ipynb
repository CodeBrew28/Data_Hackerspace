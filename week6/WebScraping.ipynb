{
 "cells": [
  {
   "cell_type": "markdown",
   "metadata": {},
   "source": [
    "# Web Scraping"
   ]
  },
  {
   "cell_type": "code",
   "execution_count": 83,
   "metadata": {
    "collapsed": true
   },
   "outputs": [],
   "source": [
    "from bs4 import BeautifulSoup\n",
    "import requests\n",
    "import re\n",
    "import pandas as pd\n",
    "% matplotlib inline"
   ]
  },
  {
   "cell_type": "markdown",
   "metadata": {},
   "source": [
    "## Example 1: Hacker News"
   ]
  },
  {
   "cell_type": "code",
   "execution_count": 4,
   "metadata": {
    "collapsed": false
   },
   "outputs": [
    {
     "data": {
      "text/plain": [
       "u'<html op=\"news\"><head><meta name=\"referrer\" content=\"origin\"><meta name=\"viewport\" content=\"width=device-width, initial-scale=1.0\"><link rel=\"stylesheet\" type=\"text/css\" href=\"news.css?PhuKoantg5oMWYOxn7py\">\\n        <link rel=\"shortcut icon\" href=\"favicon.ico\">\\n          <link rel=\"alternate\" type=\"application/rss+xml\" title=\"RSS\" href=\"rss\">\\n        <title>Hacker News</title>\\n      </head><body><center><table id=\"hnmain\" border=\"0\" cellpadding=\"0\" cellspacing=\"0\" width=\"85%\" bgcolor=\"#f6f6ef\">\\n        <tr><td bgcolor=\"#ff6600\"><table border=\"0\" cellpadding=\"0\" cellspacing=\"0\" width=\"100%\" style=\"padding:2px\"><tr><td style=\"width:18px;padding-right:4px\"><a href=\"http://www.ycombinator.com\"><img src=\"y18.gif\" width=\"18\" height=\"18\" style=\"border:1px white solid;\"></a></td>\\n                  <td style=\"line-height:12pt; height:10px;\"><span class=\"pagetop\"><b class=\"hnname\"><a href=\"news\">Hacker News</a></b>\\n              <a href=\"newest\">new</a> | <a href=\"newcomments\">comments</a> | <a href=\"show\">show</a> | <a href=\"ask\">ask</a> | <a href=\"jobs\">jobs</a> | <a href=\"submit\">submit</a>            </span></td><td style=\"text-align:right;padding-right:4px;\"><span class=\"pagetop\">\\n                              <a href=\"login?goto=news\">login</a>\\n                          </span></td>\\n              </tr></table></td></tr>\\n<tr style=\"height:10px\"></tr><tr><td><table border=\"0\" cellpadding=\"0\" cellspacing=\"0\" class=\"itemlist\">\\n              <tr class=\\'athing\\' id=\\'12645661\\'>\\n      <td align=\"right\" valign=\"top\" class=\"title\"><span class=\"rank\">1.</span></td>      <td valign=\"top\" class=\"votelinks\"><center><a id=\\'up_12645661\\' href=\\'vote?id=12645661&amp;how=up&amp;goto=news\\'><div class=\\'votearrow\\' title=\\'upvote\\'></div></a></center></td><td class=\"title\"><a href=\"https://www.parallella.org/2016/10/05/epiphany-v-a-1024-core-64-bit-risc-processor/?\" class=\"storylink\">Epiphany-V: A 1024-core 64-bit RISC processor</a><span class=\"sitebit comhead\"> (<a href=\"from?site=parallella.org\"><span class=\"sitestr\">parallella.org</span></a>)</span></td></tr><tr><td colspan=\"2\"></td><td class=\"subtext\">\\n        <span class=\"score\" id=\"score_12645661\">230 points</span> by <a href=\"user?id=ivank\" class=\"hnuser\">ivank</a> <span class=\"age\"><a href=\"item?id=12645661\">4 hours ago</a></span> <span id=\"unv_12645661\"></span> | <a href=\"hide?id=12645661&amp;goto=news\">hide</a> | <a href=\"item?id=12645661\">138&nbsp;comments</a>              </td></tr>\\n      <tr class=\"spacer\" style=\"height:5px\"></tr>\\n                <tr class=\\'athing\\' id=\\'12646083\\'>\\n      <td align=\"right\" valign=\"top\" class=\"title\"><span class=\"rank\">2.</span></td>      <td valign=\"top\" class=\"votelinks\"><center><a id=\\'up_12646083\\' href=\\'vote?id=12646083&amp;how=up&amp;goto=news\\'><div class=\\'votearrow\\' title=\\'upvote\\'></div></a></center></td><td class=\"title\"><a href=\"https://github.com/Gargron/mastodon\" class=\"storylink\">Show HN: A new decentralized microblogging platform</a><span class=\"sitebit comhead\"> (<a href=\"from?site=github.com\"><span class=\"sitestr\">github.com</span></a>)</span></td></tr><tr><td colspan=\"2\"></td><td class=\"subtext\">\\n        <span class=\"score\" id=\"score_12646083\">162 points</span> by <a href=\"user?id=daveid\" class=\"hnuser\">daveid</a> <span class=\"age\"><a href=\"item?id=12646083\">3 hours ago</a></span> <span id=\"unv_12646083\"></span> | <a href=\"hide?id=12646083&amp;goto=news\">hide</a> | <a href=\"item?id=12646083\">64&nbsp;comments</a>              </td></tr>\\n      <tr class=\"spacer\" style=\"height:5px\"></tr>\\n                <tr class=\\'athing\\' id=\\'12646511\\'>\\n      <td align=\"right\" valign=\"top\" class=\"title\"><span class=\"rank\">3.</span></td>      <td valign=\"top\" class=\"votelinks\"><center><a id=\\'up_12646511\\' href=\\'vote?id=12646511&amp;how=up&amp;goto=news\\'><div class=\\'votearrow\\' title=\\'upvote\\'></div></a></center></td><td class=\"title\"><a href=\"https://www.typora.io/\" class=\"storylink\">Typora \\u2013 A cross platform markdown editor</a><span class=\"sitebit comhead\"> (<a href=\"from?site=typora.io\"><span class=\"sitestr\">typora.io</span></a>)</span></td></tr><tr><td colspan=\"2\"></td><td class=\"subtext\">\\n        <span class=\"score\" id=\"score_12646511\">104 points</span> by <a href=\"user?id=algorithmsRcool\" class=\"hnuser\">algorithmsRcool</a> <span class=\"age\"><a href=\"item?id=12646511\">2 hours ago</a></span> <span id=\"unv_12646511\"></span> | <a href=\"hide?id=12646511&amp;goto=news\">hide</a> | <a href=\"item?id=12646511\">35&nbsp;comments</a>              </td></tr>\\n      <tr class=\"spacer\" style=\"height:5px\"></tr>\\n                <tr class=\\'athing\\' id=\\'12646390\\'>\\n      <td align=\"right\" valign=\"top\" class=\"title\"><span class=\"rank\">4.</span></td>      <td valign=\"top\" class=\"votelinks\"><center><a id=\\'up_12646390\\' href=\\'vote?id=12646390&amp;how=up&amp;goto=news\\'><div class=\\'votearrow\\' title=\\'upvote\\'></div></a></center></td><td class=\"title\"><a href=\"http://citeseerx.ist.psu.edu/viewdoc/download?doi=10.1.1.106.364&amp;rep=rep1&amp;type=pdf\" class=\"storylink\">Total Functional Programming [pdf]</a><span class=\"sitebit comhead\"> (<a href=\"from?site=psu.edu\"><span class=\"sitestr\">psu.edu</span></a>)</span></td></tr><tr><td colspan=\"2\"></td><td class=\"subtext\">\\n        <span class=\"score\" id=\"score_12646390\">79 points</span> by <a href=\"user?id=adgasf\" class=\"hnuser\">adgasf</a> <span class=\"age\"><a href=\"item?id=12646390\">3 hours ago</a></span> <span id=\"unv_12646390\"></span> | <a href=\"hide?id=12646390&amp;goto=news\">hide</a> | <a href=\"item?id=12646390\">27&nbsp;comments</a>              </td></tr>\\n      <tr class=\"spacer\" style=\"height:5px\"></tr>\\n                <tr class=\\'athing\\' id=\\'12643978\\'>\\n      <td align=\"right\" valign=\"top\" class=\"title\"><span class=\"rank\">5.</span></td>      <td valign=\"top\" class=\"votelinks\"><center><a id=\\'up_12643978\\' href=\\'vote?id=12643978&amp;how=up&amp;goto=news\\'><div class=\\'votearrow\\' title=\\'upvote\\'></div></a></center></td><td class=\"title\"><a href=\"http://www.vox.com/science-and-health/2016/9/30/13077658/statcheck-psychology-replication\" class=\"storylink\">A bot crawled thousands of studies looking for simple math errors</a><span class=\"sitebit comhead\"> (<a href=\"from?site=vox.com\"><span class=\"sitestr\">vox.com</span></a>)</span></td></tr><tr><td colspan=\"2\"></td><td class=\"subtext\">\\n        <span class=\"score\" id=\"score_12643978\">221 points</span> by <a href=\"user?id=MollyR\" class=\"hnuser\">MollyR</a> <span class=\"age\"><a href=\"item?id=12643978\">7 hours ago</a></span> <span id=\"unv_12643978\"></span> | <a href=\"hide?id=12643978&amp;goto=news\">hide</a> | <a href=\"item?id=12643978\">103&nbsp;comments</a>              </td></tr>\\n      <tr class=\"spacer\" style=\"height:5px\"></tr>\\n                <tr class=\\'athing\\' id=\\'12646919\\'>\\n      <td align=\"right\" valign=\"top\" class=\"title\"><span class=\"rank\">6.</span></td>      <td valign=\"top\" class=\"votelinks\"><center><a id=\\'up_12646919\\' href=\\'vote?id=12646919&amp;how=up&amp;goto=news\\'><div class=\\'votearrow\\' title=\\'upvote\\'></div></a></center></td><td class=\"title\"><a href=\"https://blog.kapeli.com/apple-removed-dash-from-the-app-store\" class=\"storylink\">Apple Has Removed Dash from the App Store</a><span class=\"sitebit comhead\"> (<a href=\"from?site=kapeli.com\"><span class=\"sitestr\">kapeli.com</span></a>)</span></td></tr><tr><td colspan=\"2\"></td><td class=\"subtext\">\\n        <span class=\"score\" id=\"score_12646919\">373 points</span> by <a href=\"user?id=ingve\" class=\"hnuser\">ingve</a> <span class=\"age\"><a href=\"item?id=12646919\">2 hours ago</a></span> <span id=\"unv_12646919\"></span> | <a href=\"hide?id=12646919&amp;goto=news\">hide</a> | <a href=\"item?id=12646919\">131&nbsp;comments</a>              </td></tr>\\n      <tr class=\"spacer\" style=\"height:5px\"></tr>\\n                <tr class=\\'athing\\' id=\\'12647574\\'>\\n      <td align=\"right\" valign=\"top\" class=\"title\"><span class=\"rank\">7.</span></td>      <td valign=\"top\" class=\"votelinks\"><center><a id=\\'up_12647574\\' href=\\'vote?id=12647574&amp;how=up&amp;goto=news\\'><div class=\\'votearrow\\' title=\\'upvote\\'></div></a></center></td><td class=\"title\"><a href=\"http://www.nytimes.com/interactive/2016/10/09/magazine/big-food-photo-essay.html\" class=\"storylink\">The Dizzying Grandeur of 21st Century Agriculture</a><span class=\"sitebit comhead\"> (<a href=\"from?site=nytimes.com\"><span class=\"sitestr\">nytimes.com</span></a>)</span></td></tr><tr><td colspan=\"2\"></td><td class=\"subtext\">\\n        <span class=\"score\" id=\"score_12647574\">15 points</span> by <a href=\"user?id=adriand\" class=\"hnuser\">adriand</a> <span class=\"age\"><a href=\"item?id=12647574\">54 minutes ago</a></span> <span id=\"unv_12647574\"></span> | <a href=\"hide?id=12647574&amp;goto=news\">hide</a> | <a href=\"item?id=12647574\">discuss</a>              </td></tr>\\n      <tr class=\"spacer\" style=\"height:5px\"></tr>\\n                <tr class=\\'athing\\' id=\\'12642824\\'>\\n      <td align=\"right\" valign=\"top\" class=\"title\"><span class=\"rank\">8.</span></td>      <td valign=\"top\" class=\"votelinks\"><center><a id=\\'up_12642824\\' href=\\'vote?id=12642824&amp;how=up&amp;goto=news\\'><div class=\\'votearrow\\' title=\\'upvote\\'></div></a></center></td><td class=\"title\"><a href=\"http://www.nytimes.com/2016/10/06/technology/mailchimp-and-the-un-silicon-valley-way-to-make-it-as-a-start-up.html\" class=\"storylink\">MailChimp\\u2019s founders built the company slowly by anticipating customers\\u2019 needs</a><span class=\"sitebit comhead\"> (<a href=\"from?site=nytimes.com\"><span class=\"sitestr\">nytimes.com</span></a>)</span></td></tr><tr><td colspan=\"2\"></td><td class=\"subtext\">\\n        <span class=\"score\" id=\"score_12642824\">357 points</span> by <a href=\"user?id=kellegous\" class=\"hnuser\">kellegous</a> <span class=\"age\"><a href=\"item?id=12642824\">10 hours ago</a></span> <span id=\"unv_12642824\"></span> | <a href=\"hide?id=12642824&amp;goto=news\">hide</a> | <a href=\"item?id=12642824\">190&nbsp;comments</a>              </td></tr>\\n      <tr class=\"spacer\" style=\"height:5px\"></tr>\\n                <tr class=\\'athing\\' id=\\'12646320\\'>\\n      <td align=\"right\" valign=\"top\" class=\"title\"><span class=\"rank\">9.</span></td>      <td valign=\"top\" class=\"votelinks\"><center><a id=\\'up_12646320\\' href=\\'vote?id=12646320&amp;how=up&amp;goto=news\\'><div class=\\'votearrow\\' title=\\'upvote\\'></div></a></center></td><td class=\"title\"><a href=\"http://www.nytimes.com/2016/10/06/science/maximum-life-span-study.html\" class=\"storylink\">What\\'s the Longest Humans Can Live?</a><span class=\"sitebit comhead\"> (<a href=\"from?site=nytimes.com\"><span class=\"sitestr\">nytimes.com</span></a>)</span></td></tr><tr><td colspan=\"2\"></td><td class=\"subtext\">\\n        <span class=\"score\" id=\"score_12646320\">69 points</span> by <a href=\"user?id=helloworld\" class=\"hnuser\">helloworld</a> <span class=\"age\"><a href=\"item?id=12646320\">3 hours ago</a></span> <span id=\"unv_12646320\"></span> | <a href=\"hide?id=12646320&amp;goto=news\">hide</a> | <a href=\"item?id=12646320\">71&nbsp;comments</a>              </td></tr>\\n      <tr class=\"spacer\" style=\"height:5px\"></tr>\\n                <tr class=\\'athing\\' id=\\'12646220\\'>\\n      <td align=\"right\" valign=\"top\" class=\"title\"><span class=\"rank\">10.</span></td>      <td valign=\"top\" class=\"votelinks\"><center><a id=\\'up_12646220\\' href=\\'vote?id=12646220&amp;how=up&amp;goto=news\\'><div class=\\'votearrow\\' title=\\'upvote\\'></div></a></center></td><td class=\"title\"><a href=\"https://tierion.com/blog/blockchain-healthcare-2016-report/?hn\" class=\"storylink\">Blockchain Healthcare 2016 Report \\u2013 Promise and Pitfalls</a><span class=\"sitebit comhead\"> (<a href=\"from?site=tierion.com\"><span class=\"sitestr\">tierion.com</span></a>)</span></td></tr><tr><td colspan=\"2\"></td><td class=\"subtext\">\\n        <span class=\"score\" id=\"score_12646220\">34 points</span> by <a href=\"user?id=kysar_tom\" class=\"hnuser\">kysar_tom</a> <span class=\"age\"><a href=\"item?id=12646220\">3 hours ago</a></span> <span id=\"unv_12646220\"></span> | <a href=\"hide?id=12646220&amp;goto=news\">hide</a> | <a href=\"item?id=12646220\">19&nbsp;comments</a>              </td></tr>\\n      <tr class=\"spacer\" style=\"height:5px\"></tr>\\n                <tr class=\\'athing\\' id=\\'12645210\\'>\\n      <td align=\"right\" valign=\"top\" class=\"title\"><span class=\"rank\">11.</span></td>      <td valign=\"top\" class=\"votelinks\"><center><a id=\\'up_12645210\\' href=\\'vote?id=12645210&amp;how=up&amp;goto=news\\'><div class=\\'votearrow\\' title=\\'upvote\\'></div></a></center></td><td class=\"title\"><a href=\"https://www.nytimes.com/2016/10/06/us/nsa-leak-booz-allen-hamilton.html\" class=\"storylink\">N.S.A. Contractor Arrested in Possible New Theft of Secrets</a><span class=\"sitebit comhead\"> (<a href=\"from?site=nytimes.com\"><span class=\"sitestr\">nytimes.com</span></a>)</span></td></tr><tr><td colspan=\"2\"></td><td class=\"subtext\">\\n        <span class=\"score\" id=\"score_12645210\">195 points</span> by <a href=\"user?id=SuperKlaus\" class=\"hnuser\">SuperKlaus</a> <span class=\"age\"><a href=\"item?id=12645210\">5 hours ago</a></span> <span id=\"unv_12645210\"></span> | <a href=\"hide?id=12645210&amp;goto=news\">hide</a> | <a href=\"item?id=12645210\">78&nbsp;comments</a>              </td></tr>\\n      <tr class=\"spacer\" style=\"height:5px\"></tr>\\n                <tr class=\\'athing\\' id=\\'12640150\\'>\\n      <td align=\"right\" valign=\"top\" class=\"title\"><span class=\"rank\">12.</span></td>      <td valign=\"top\" class=\"votelinks\"><center><a id=\\'up_12640150\\' href=\\'vote?id=12640150&amp;how=up&amp;goto=news\\'><div class=\\'votearrow\\' title=\\'upvote\\'></div></a></center></td><td class=\"title\"><a href=\"http://www.newyorker.com/magazine/2016/10/03/the-return-of-the-utopians\" class=\"storylink\">The Return of the Utopians</a><span class=\"sitebit comhead\"> (<a href=\"from?site=newyorker.com\"><span class=\"sitestr\">newyorker.com</span></a>)</span></td></tr><tr><td colspan=\"2\"></td><td class=\"subtext\">\\n        <span class=\"score\" id=\"score_12640150\">10 points</span> by <a href=\"user?id=pepys\" class=\"hnuser\">pepys</a> <span class=\"age\"><a href=\"item?id=12640150\">1 hour ago</a></span> <span id=\"unv_12640150\"></span> | <a href=\"hide?id=12640150&amp;goto=news\">hide</a> | <a href=\"item?id=12640150\">discuss</a>              </td></tr>\\n      <tr class=\"spacer\" style=\"height:5px\"></tr>\\n                <tr class=\\'athing\\' id=\\'12647495\\'>\\n      <td align=\"right\" valign=\"top\" class=\"title\"><span class=\"rank\">13.</span></td>      <td valign=\"top\" class=\"votelinks\"><center><a id=\\'up_12647495\\' href=\\'vote?id=12647495&amp;how=up&amp;goto=news\\'><div class=\\'votearrow\\' title=\\'upvote\\'></div></a></center></td><td class=\"title\"><a href=\"http://foodrevolution.org/blog/denmark-organic-country\" class=\"storylink\">Denmark is on its way to becoming an organic food country</a><span class=\"sitebit comhead\"> (<a href=\"from?site=foodrevolution.org\"><span class=\"sitestr\">foodrevolution.org</span></a>)</span></td></tr><tr><td colspan=\"2\"></td><td class=\"subtext\">\\n        <span class=\"score\" id=\"score_12647495\">43 points</span> by <a href=\"user?id=finid\" class=\"hnuser\">finid</a> <span class=\"age\"><a href=\"item?id=12647495\">1 hour ago</a></span> <span id=\"unv_12647495\"></span> | <a href=\"hide?id=12647495&amp;goto=news\">hide</a> | <a href=\"item?id=12647495\">49&nbsp;comments</a>              </td></tr>\\n      <tr class=\"spacer\" style=\"height:5px\"></tr>\\n                <tr class=\\'athing\\' id=\\'12644678\\'>\\n      <td align=\"right\" valign=\"top\" class=\"title\"><span class=\"rank\">14.</span></td>      <td valign=\"top\" class=\"votelinks\"><center><a id=\\'up_12644678\\' href=\\'vote?id=12644678&amp;how=up&amp;goto=news\\'><div class=\\'votearrow\\' title=\\'upvote\\'></div></a></center></td><td class=\"title\"><a href=\"http://www.nytimes.com/2016/10/05/technology/subpoenas-and-gag-orders-show-government-overreach-tech-companies-argue.html\" class=\"storylink\">Subpoenas and Gag Orders Show Government Overreach, Tech Companies Argue</a><span class=\"sitebit comhead\"> (<a href=\"from?site=nytimes.com\"><span class=\"sitestr\">nytimes.com</span></a>)</span></td></tr><tr><td colspan=\"2\"></td><td class=\"subtext\">\\n        <span class=\"score\" id=\"score_12644678\">165 points</span> by <a href=\"user?id=JumpCrisscross\" class=\"hnuser\">JumpCrisscross</a> <span class=\"age\"><a href=\"item?id=12644678\">5 hours ago</a></span> <span id=\"unv_12644678\"></span> | <a href=\"hide?id=12644678&amp;goto=news\">hide</a> | <a href=\"item?id=12644678\">36&nbsp;comments</a>              </td></tr>\\n      <tr class=\"spacer\" style=\"height:5px\"></tr>\\n                <tr class=\\'athing\\' id=\\'12635286\\'>\\n      <td align=\"right\" valign=\"top\" class=\"title\"><span class=\"rank\">15.</span></td>      <td valign=\"top\" class=\"votelinks\"><center><a id=\\'up_12635286\\' href=\\'vote?id=12635286&amp;how=up&amp;goto=news\\'><div class=\\'votearrow\\' title=\\'upvote\\'></div></a></center></td><td class=\"title\"><a href=\"http://www.newyorker.com/culture/cultural-comment/the-unmasking-of-elena-ferrante\" class=\"storylink\">The \\u201cUnmasking\\u201d of Elena Ferrante</a><span class=\"sitebit comhead\"> (<a href=\"from?site=newyorker.com\"><span class=\"sitestr\">newyorker.com</span></a>)</span></td></tr><tr><td colspan=\"2\"></td><td class=\"subtext\">\\n        <span class=\"score\" id=\"score_12635286\">12 points</span> by <a href=\"user?id=lermontov\" class=\"hnuser\">lermontov</a> <span class=\"age\"><a href=\"item?id=12635286\">1 hour ago</a></span> <span id=\"unv_12635286\"></span> | <a href=\"hide?id=12635286&amp;goto=news\">hide</a> | <a href=\"item?id=12635286\">6&nbsp;comments</a>              </td></tr>\\n      <tr class=\"spacer\" style=\"height:5px\"></tr>\\n                <tr class=\\'athing\\' id=\\'12645525\\'>\\n      <td align=\"right\" valign=\"top\" class=\"title\"><span class=\"rank\">16.</span></td>      <td valign=\"top\" class=\"votelinks\"><center><a id=\\'up_12645525\\' href=\\'vote?id=12645525&amp;how=up&amp;goto=news\\'><div class=\\'votearrow\\' title=\\'upvote\\'></div></a></center></td><td class=\"title\"><a href=\"https://getputpost.co/apps-that-send-packages-with-the-shippo-api-6184d909ccb1#.tn2wzmtmu\" class=\"storylink\">Apps that send packages with the Shippo API</a><span class=\"sitebit comhead\"> (<a href=\"from?site=getputpost.co\"><span class=\"sitestr\">getputpost.co</span></a>)</span></td></tr><tr><td colspan=\"2\"></td><td class=\"subtext\">\\n        <span class=\"score\" id=\"score_12645525\">46 points</span> by <a href=\"user?id=robee\" class=\"hnuser\">robee</a> <span class=\"age\"><a href=\"item?id=12645525\">4 hours ago</a></span> <span id=\"unv_12645525\"></span> | <a href=\"hide?id=12645525&amp;goto=news\">hide</a> | <a href=\"item?id=12645525\">23&nbsp;comments</a>              </td></tr>\\n      <tr class=\"spacer\" style=\"height:5px\"></tr>\\n                <tr class=\\'athing\\' id=\\'12645473\\'>\\n      <td align=\"right\" valign=\"top\" class=\"title\"><span class=\"rank\">17.</span></td>      <td valign=\"top\" class=\"votelinks\"><center><a id=\\'up_12645473\\' href=\\'vote?id=12645473&amp;how=up&amp;goto=news\\'><div class=\\'votearrow\\' title=\\'upvote\\'></div></a></center></td><td class=\"title\"><a href=\"http://www.boeing.com/features/2015/10/innovation-lightest-metal-10-15.page\" class=\"storylink\">The Lightest Metal Ever (2015) [video]</a><span class=\"sitebit comhead\"> (<a href=\"from?site=boeing.com\"><span class=\"sitestr\">boeing.com</span></a>)</span></td></tr><tr><td colspan=\"2\"></td><td class=\"subtext\">\\n        <span class=\"score\" id=\"score_12645473\">37 points</span> by <a href=\"user?id=lisper\" class=\"hnuser\">lisper</a> <span class=\"age\"><a href=\"item?id=12645473\">4 hours ago</a></span> <span id=\"unv_12645473\"></span> | <a href=\"hide?id=12645473&amp;goto=news\">hide</a> | <a href=\"item?id=12645473\">35&nbsp;comments</a>              </td></tr>\\n      <tr class=\"spacer\" style=\"height:5px\"></tr>\\n                <tr class=\\'athing\\' id=\\'12646055\\'>\\n      <td align=\"right\" valign=\"top\" class=\"title\"><span class=\"rank\">18.</span></td>      <td valign=\"top\" class=\"votelinks\"><center><a id=\\'up_12646055\\' href=\\'vote?id=12646055&amp;how=up&amp;goto=news\\'><div class=\\'votearrow\\' title=\\'upvote\\'></div></a></center></td><td class=\"title\"><a href=\"http://www.tedunangst.com/flak/post/cloudflare-and-rss\" class=\"storylink\">Cloudflare and RSS</a><span class=\"sitebit comhead\"> (<a href=\"from?site=tedunangst.com\"><span class=\"sitestr\">tedunangst.com</span></a>)</span></td></tr><tr><td colspan=\"2\"></td><td class=\"subtext\">\\n        <span class=\"score\" id=\"score_12646055\">142 points</span> by <a href=\"user?id=vog\" class=\"hnuser\">vog</a> <span class=\"age\"><a href=\"item?id=12646055\">3 hours ago</a></span> <span id=\"unv_12646055\"></span> | <a href=\"hide?id=12646055&amp;goto=news\">hide</a> | <a href=\"item?id=12646055\">61&nbsp;comments</a>              </td></tr>\\n      <tr class=\"spacer\" style=\"height:5px\"></tr>\\n                <tr class=\\'athing\\' id=\\'12643463\\'>\\n      <td align=\"right\" valign=\"top\" class=\"title\"><span class=\"rank\">19.</span></td>      <td valign=\"top\" class=\"votelinks\"><center><a id=\\'up_12643463\\' href=\\'vote?id=12643463&amp;how=up&amp;goto=news\\'><div class=\\'votearrow\\' title=\\'upvote\\'></div></a></center></td><td class=\"title\"><a href=\"http://csrc.nist.gov/publications/drafts/nistir-8151/nistir8151_draft.pdf\" class=\"storylink\">Dramatically Reducing Software Vulnerabilities [pdf]</a><span class=\"sitebit comhead\"> (<a href=\"from?site=nist.gov\"><span class=\"sitestr\">nist.gov</span></a>)</span></td></tr><tr><td colspan=\"2\"></td><td class=\"subtext\">\\n        <span class=\"score\" id=\"score_12643463\">101 points</span> by <a href=\"user?id=Dowwie\" class=\"hnuser\">Dowwie</a> <span class=\"age\"><a href=\"item?id=12643463\">8 hours ago</a></span> <span id=\"unv_12643463\"></span> | <a href=\"hide?id=12643463&amp;goto=news\">hide</a> | <a href=\"item?id=12643463\">52&nbsp;comments</a>              </td></tr>\\n      <tr class=\"spacer\" style=\"height:5px\"></tr>\\n                <tr class=\\'athing\\' id=\\'12643887\\'>\\n      <td align=\"right\" valign=\"top\" class=\"title\"><span class=\"rank\">20.</span></td>      <td valign=\"top\" class=\"votelinks\"><center><a id=\\'up_12643887\\' href=\\'vote?id=12643887&amp;how=up&amp;goto=news\\'><div class=\\'votearrow\\' title=\\'upvote\\'></div></a></center></td><td class=\"title\"><a href=\"https://sanctum.geek.nz/arabesque/vim-anti-patterns/\" class=\"storylink\">Vim Anti-Patterns</a><span class=\"sitebit comhead\"> (<a href=\"from?site=sanctum.geek.nz\"><span class=\"sitestr\">sanctum.geek.nz</span></a>)</span></td></tr><tr><td colspan=\"2\"></td><td class=\"subtext\">\\n        <span class=\"score\" id=\"score_12643887\">282 points</span> by <a href=\"user?id=microsage\" class=\"hnuser\">microsage</a> <span class=\"age\"><a href=\"item?id=12643887\">7 hours ago</a></span> <span id=\"unv_12643887\"></span> | <a href=\"hide?id=12643887&amp;goto=news\">hide</a> | <a href=\"item?id=12643887\">164&nbsp;comments</a>              </td></tr>\\n      <tr class=\"spacer\" style=\"height:5px\"></tr>\\n                <tr class=\\'athing\\' id=\\'12644604\\'>\\n      <td align=\"right\" valign=\"top\" class=\"title\"><span class=\"rank\">21.</span></td>      <td valign=\"top\" class=\"votelinks\"><center><a id=\\'up_12644604\\' href=\\'vote?id=12644604&amp;how=up&amp;goto=news\\'><div class=\\'votearrow\\' title=\\'upvote\\'></div></a></center></td><td class=\"title\"><a href=\"https://techcrunch.com/2016/10/05/not-ok-google/\" class=\"storylink\">Not OK, Google</a><span class=\"sitebit comhead\"> (<a href=\"from?site=techcrunch.com\"><span class=\"sitestr\">techcrunch.com</span></a>)</span></td></tr><tr><td colspan=\"2\"></td><td class=\"subtext\">\\n        <span class=\"score\" id=\"score_12644604\">538 points</span> by <a href=\"user?id=CapitalistCartr\" class=\"hnuser\">CapitalistCartr</a> <span class=\"age\"><a href=\"item?id=12644604\">6 hours ago</a></span> <span id=\"unv_12644604\"></span> | <a href=\"hide?id=12644604&amp;goto=news\">hide</a> | <a href=\"item?id=12644604\">485&nbsp;comments</a>              </td></tr>\\n      <tr class=\"spacer\" style=\"height:5px\"></tr>\\n                <tr class=\\'athing\\' id=\\'12643616\\'>\\n      <td align=\"right\" valign=\"top\" class=\"title\"><span class=\"rank\">22.</span></td>      <td valign=\"top\" class=\"votelinks\"><center><a id=\\'up_12643616\\' href=\\'vote?id=12643616&amp;how=up&amp;goto=news\\'><div class=\\'votearrow\\' title=\\'upvote\\'></div></a></center></td><td class=\"title\"><a href=\"https://www.blueorigin.com/\" class=\"storylink\">New Shepard In-Flight Escape Test [video]</a><span class=\"sitebit comhead\"> (<a href=\"from?site=blueorigin.com\"><span class=\"sitestr\">blueorigin.com</span></a>)</span></td></tr><tr><td colspan=\"2\"></td><td class=\"subtext\">\\n        <span class=\"score\" id=\"score_12643616\">83 points</span> by <a href=\"user?id=obi1kenobi\" class=\"hnuser\">obi1kenobi</a> <span class=\"age\"><a href=\"item?id=12643616\">7 hours ago</a></span> <span id=\"unv_12643616\"></span> | <a href=\"hide?id=12643616&amp;goto=news\">hide</a> | <a href=\"item?id=12643616\">38&nbsp;comments</a>              </td></tr>\\n      <tr class=\"spacer\" style=\"height:5px\"></tr>\\n                <tr class=\\'athing\\' id=\\'12642901\\'>\\n      <td align=\"right\" valign=\"top\" class=\"title\"><span class=\"rank\">23.</span></td>      <td valign=\"top\" class=\"votelinks\"><center><a id=\\'up_12642901\\' href=\\'vote?id=12642901&amp;how=up&amp;goto=news\\'><div class=\\'votearrow\\' title=\\'upvote\\'></div></a></center></td><td class=\"title\"><a href=\"https://www.dxomark.com/Mobiles/Pixel-smartphone-camera-review-At-the-top\" class=\"storylink\">Pixel smartphone camera review: At the top</a><span class=\"sitebit comhead\"> (<a href=\"from?site=dxomark.com\"><span class=\"sitestr\">dxomark.com</span></a>)</span></td></tr><tr><td colspan=\"2\"></td><td class=\"subtext\">\\n        <span class=\"score\" id=\"score_12642901\">210 points</span> by <a href=\"user?id=Simpliplant\" class=\"hnuser\">Simpliplant</a> <span class=\"age\"><a href=\"item?id=12642901\">10 hours ago</a></span> <span id=\"unv_12642901\"></span> | <a href=\"hide?id=12642901&amp;goto=news\">hide</a> | <a href=\"item?id=12642901\">219&nbsp;comments</a>              </td></tr>\\n      <tr class=\"spacer\" style=\"height:5px\"></tr>\\n                <tr class=\\'athing\\' id=\\'12647606\\'>\\n      <td align=\"right\" valign=\"top\" class=\"title\"><span class=\"rank\">24.</span></td>      <td valign=\"top\" class=\"votelinks\"><center><a id=\\'up_12647606\\' href=\\'vote?id=12647606&amp;how=up&amp;goto=news\\'><div class=\\'votearrow\\' title=\\'upvote\\'></div></a></center></td><td class=\"title\"><a href=\"http://blogs.atlassian.com/2016/10/san-francisco-homeless/\" class=\"storylink\">Helping the homeless in San Francisco</a><span class=\"sitebit comhead\"> (<a href=\"from?site=atlassian.com\"><span class=\"sitestr\">atlassian.com</span></a>)</span></td></tr><tr><td colspan=\"2\"></td><td class=\"subtext\">\\n        <span class=\"score\" id=\"score_12647606\">19 points</span> by <a href=\"user?id=gitdude\" class=\"hnuser\">gitdude</a> <span class=\"age\"><a href=\"item?id=12647606\">52 minutes ago</a></span> <span id=\"unv_12647606\"></span> | <a href=\"hide?id=12647606&amp;goto=news\">hide</a> | <a href=\"item?id=12647606\">2&nbsp;comments</a>              </td></tr>\\n      <tr class=\"spacer\" style=\"height:5px\"></tr>\\n                <tr class=\\'athing\\' id=\\'12635118\\'>\\n      <td align=\"right\" valign=\"top\" class=\"title\"><span class=\"rank\">25.</span></td>      <td valign=\"top\" class=\"votelinks\"><center><a id=\\'up_12635118\\' href=\\'vote?id=12635118&amp;how=up&amp;goto=news\\'><div class=\\'votearrow\\' title=\\'upvote\\'></div></a></center></td><td class=\"title\"><a href=\"http://publicdomainreview.org/collections/texts-in-sebalds-the-rings-of-saturn/\" class=\"storylink\">Texts in Sebald\\u2019s the Rings of Saturn (2013)</a><span class=\"sitebit comhead\"> (<a href=\"from?site=publicdomainreview.org\"><span class=\"sitestr\">publicdomainreview.org</span></a>)</span></td></tr><tr><td colspan=\"2\"></td><td class=\"subtext\">\\n        <span class=\"score\" id=\"score_12635118\">8 points</span> by <a href=\"user?id=samclemens\" class=\"hnuser\">samclemens</a> <span class=\"age\"><a href=\"item?id=12635118\">2 hours ago</a></span> <span id=\"unv_12635118\"></span> | <a href=\"hide?id=12635118&amp;goto=news\">hide</a> | <a href=\"item?id=12635118\">discuss</a>              </td></tr>\\n      <tr class=\"spacer\" style=\"height:5px\"></tr>\\n                <tr class=\\'athing\\' id=\\'12646654\\'>\\n      <td align=\"right\" valign=\"top\" class=\"title\"><span class=\"rank\">26.</span></td>      <td></td><td class=\"title\"><a href=\"https://jobs.lever.co/apptimize/224821f1-4d6c-43ff-bcd9-5192829bc90c\" class=\"storylink\" rel=\"nofollow\">Apptimize seeking hands-on growth product marketing leader</a><span class=\"sitebit comhead\"> (<a href=\"from?site=lever.co\"><span class=\"sitestr\">lever.co</span></a>)</span></td></tr><tr><td colspan=\"2\"></td><td class=\"subtext\">\\n        <span class=\"age\"><a href=\"item?id=12646654\">2 hours ago</a></span> | <a href=\"hide?id=12646654&amp;goto=news\">hide</a>      </td></tr>\\n      <tr class=\"spacer\" style=\"height:5px\"></tr>\\n                <tr class=\\'athing\\' id=\\'12647827\\'>\\n      <td align=\"right\" valign=\"top\" class=\"title\"><span class=\"rank\">27.</span></td>      <td valign=\"top\" class=\"votelinks\"><center><a id=\\'up_12647827\\' href=\\'vote?id=12647827&amp;how=up&amp;goto=news\\'><div class=\\'votearrow\\' title=\\'upvote\\'></div></a></center></td><td class=\"title\"><a href=\"http://textpattern.com/weblog/392/textpattern-cms-461-released-hello-classic\" class=\"storylink\" rel=\"nofollow\">Textpattern CMS 4.6.1 released</a><span class=\"sitebit comhead\"> (<a href=\"from?site=textpattern.com\"><span class=\"sitestr\">textpattern.com</span></a>)</span></td></tr><tr><td colspan=\"2\"></td><td class=\"subtext\">\\n        <span class=\"score\" id=\"score_12647827\">5 points</span> by <a href=\"user?id=petecooper\" class=\"hnuser\">petecooper</a> <span class=\"age\"><a href=\"item?id=12647827\">28 minutes ago</a></span> <span id=\"unv_12647827\"></span> | <a href=\"hide?id=12647827&amp;goto=news\">hide</a> | <a href=\"item?id=12647827\">discuss</a>              </td></tr>\\n      <tr class=\"spacer\" style=\"height:5px\"></tr>\\n                <tr class=\\'athing\\' id=\\'12643871\\'>\\n      <td align=\"right\" valign=\"top\" class=\"title\"><span class=\"rank\">28.</span></td>      <td valign=\"top\" class=\"votelinks\"><center><a id=\\'up_12643871\\' href=\\'vote?id=12643871&amp;how=up&amp;goto=news\\'><div class=\\'votearrow\\' title=\\'upvote\\'></div></a></center></td><td class=\"title\"><a href=\"http://www.wsj.com/articles/twitter-is-expected-to-field-bids-this-week-1475621345\" class=\"storylink\">Twitter Is Expected to Field Bids This Week</a><span class=\"sitebit comhead\"> (<a href=\"from?site=wsj.com\"><span class=\"sitestr\">wsj.com</span></a>)</span></td></tr><tr><td colspan=\"2\"></td><td class=\"subtext\">\\n        <span class=\"score\" id=\"score_12643871\">130 points</span> by <a href=\"user?id=daschaefer\" class=\"hnuser\">daschaefer</a> <span class=\"age\"><a href=\"item?id=12643871\">7 hours ago</a></span> <span id=\"unv_12643871\"></span> | <a href=\"hide?id=12643871&amp;goto=news\">hide</a> | <a href=\"item?id=12643871\">222&nbsp;comments</a>              </td></tr>\\n      <tr class=\"spacer\" style=\"height:5px\"></tr>\\n                <tr class=\\'athing\\' id=\\'12642791\\'>\\n      <td align=\"right\" valign=\"top\" class=\"title\"><span class=\"rank\">29.</span></td>      <td valign=\"top\" class=\"votelinks\"><center><a id=\\'up_12642791\\' href=\\'vote?id=12642791&amp;how=up&amp;goto=news\\'><div class=\\'votearrow\\' title=\\'upvote\\'></div></a></center></td><td class=\"title\"><a href=\"http://nautil.us/blog/social-learning-in-nature-is-ubiquitous\" class=\"storylink\">Social Learning in Nature Is Ubiquitous</a><span class=\"sitebit comhead\"> (<a href=\"from?site=nautil.us\"><span class=\"sitestr\">nautil.us</span></a>)</span></td></tr><tr><td colspan=\"2\"></td><td class=\"subtext\">\\n        <span class=\"score\" id=\"score_12642791\">33 points</span> by <a href=\"user?id=dnetesn\" class=\"hnuser\">dnetesn</a> <span class=\"age\"><a href=\"item?id=12642791\">8 hours ago</a></span> <span id=\"unv_12642791\"></span> | <a href=\"hide?id=12642791&amp;goto=news\">hide</a> | <a href=\"item?id=12642791\">discuss</a>              </td></tr>\\n      <tr class=\"spacer\" style=\"height:5px\"></tr>\\n                <tr class=\\'athing\\' id=\\'12642798\\'>\\n      <td align=\"right\" valign=\"top\" class=\"title\"><span class=\"rank\">30.</span></td>      <td valign=\"top\" class=\"votelinks\"><center><a id=\\'up_12642798\\' href=\\'vote?id=12642798&amp;how=up&amp;goto=news\\'><div class=\\'votearrow\\' title=\\'upvote\\'></div></a></center></td><td class=\"title\"><a href=\"http://www.nobelprize.org/nobel_prizes/chemistry/laureates/2016/popular-chemistryprize2016.pdf\" class=\"storylink\">The Nobel Prize in Chemistry 2016</a><span class=\"sitebit comhead\"> (<a href=\"from?site=nobelprize.org\"><span class=\"sitestr\">nobelprize.org</span></a>)</span></td></tr><tr><td colspan=\"2\"></td><td class=\"subtext\">\\n        <span class=\"score\" id=\"score_12642798\">101 points</span> by <a href=\"user?id=dnetesn\" class=\"hnuser\">dnetesn</a> <span class=\"age\"><a href=\"item?id=12642798\">10 hours ago</a></span> <span id=\"unv_12642798\"></span> | <a href=\"hide?id=12642798&amp;goto=news\">hide</a> | <a href=\"item?id=12642798\">19&nbsp;comments</a>              </td></tr>\\n      <tr class=\"spacer\" style=\"height:5px\"></tr>\\n            <tr class=\"morespace\" style=\"height:10px\"></tr><tr><td colspan=\"2\"></td><td class=\"title\"><a href=\"news?p=2\" class=\"morelink\" rel=\"nofollow\">More</a></td></tr>\\n  </table>\\n</td></tr>\\n<tr><td><img src=\"s.gif\" height=\"10\" width=\"0\"><table width=\"100%\" cellspacing=\"0\" cellpadding=\"1\"><tr><td bgcolor=\"#ff6600\"></td></tr></table><br><center><span class=\"yclinks\"><a href=\"newsguidelines.html\">Guidelines</a>\\n        | <a href=\"newsfaq.html\">FAQ</a>\\n        | <a href=\"mailto:hn@ycombinator.com\">Support</a>\\n        | <a href=\"https://github.com/HackerNews/API\">API</a>\\n        | <a href=\"security.html\">Security</a>\\n        | <a href=\"lists\">Lists</a>\\n        | <a href=\"bookmarklet.html\">Bookmarklet</a>\\n        | <a href=\"dmca.html\">DMCA</a>\\n        | <a href=\"http://www.ycombinator.com/apply/\">Apply to YC</a>\\n        | <a href=\"mailto:hn@ycombinator.com\">Contact</a></span><br><br><form method=\"get\" action=\"//hn.algolia.com/\">Search:\\n          <input type=\"text\" name=\"q\" value=\"\" size=\"17\" autocorrect=\"off\" spellcheck=\"false\" autocapitalize=\"off\" autocomplete=\"false\"></form>\\n            </center></td></tr>      </table></center></body><script type=\\'text/javascript\\' src=\\'hn.js?PhuKoantg5oMWYOxn7py\\'></script></html>\\n'"
      ]
     },
     "execution_count": 4,
     "metadata": {},
     "output_type": "execute_result"
    }
   ],
   "source": [
    "html_doc = requests.get('https://news.ycombinator.com/').text\n",
    "html_doc"
   ]
  },
  {
   "cell_type": "markdown",
   "metadata": {},
   "source": [
    "### Basic Document Information"
   ]
  },
  {
   "cell_type": "code",
   "execution_count": 12,
   "metadata": {
    "collapsed": false
   },
   "outputs": [
    {
     "name": "stdout",
     "output_type": "stream",
     "text": [
      "<title>Hacker News</title>\n",
      "Hacker News\n"
     ]
    }
   ],
   "source": [
    "soup = BeautifulSoup(html_doc)\n",
    "print(soup.title) # Find the 'title' tag\n",
    "print(soup.title.string) # Find the 'title' tag's text value"
   ]
  },
  {
   "cell_type": "code",
   "execution_count": 15,
   "metadata": {
    "collapsed": false
   },
   "outputs": [
    {
     "name": "stdout",
     "output_type": "stream",
     "text": [
      "\n",
      "\n",
      "\n",
      "Hacker News\n",
      "\n",
      "\n",
      "Hacker News\n",
      "new | comments | show | ask | jobs | submit \n",
      "login\n",
      "\n",
      "\n",
      "\n",
      "\n",
      "1. Epiphany-V: A 1024-core 64-bit RISC processor (parallella.org)\n",
      "230 points by ivank 4 hours ago  | hide | 138 comments \n",
      "\n",
      "\n",
      "2. Show HN: A new decentralized microblogging platform (github.com)\n",
      "162 points by daveid 3 hours ago  | hide | 64 comments \n",
      "\n",
      "\n",
      "3. Typora – A cross platform markdown editor (typora.io)\n",
      "104 points by algorithmsRcool 2 hours ago  | hide | 35 comments \n",
      "\n",
      "\n",
      "4. Total Functional Programming [pdf] (psu.edu)\n",
      "79 points by adgasf 3 hours ago  | hide | 27 comments \n",
      "\n",
      "\n",
      "5. A bot crawled thousands of studies looking for simple math errors (vox.com)\n",
      "221 points by MollyR 7 hours ago  | hide | 103 comments \n",
      "\n",
      "\n",
      "6. Apple Has Removed Dash from the App Store (kapeli.com)\n",
      "373 points by ingve 2 hours ago  | hide | 131 comments \n",
      "\n",
      "\n",
      "7. The Dizzying Grandeur of 21st Century Agriculture (nytimes.com)\n",
      "15 points by adriand 54 minutes ago  | hide | discuss \n",
      "\n",
      "\n",
      "8. MailChimp’s founders built the company slowly by anticipating customers’ needs (nytimes.com)\n",
      "357 points by kellegous 10 hours ago  | hide | 190 comments \n",
      "\n",
      "\n",
      "9. What's the Longest Humans Can Live? (nytimes.com)\n",
      "69 points by helloworld 3 hours ago  | hide | 71 comments \n",
      "\n",
      "\n",
      "10. Blockchain Healthcare 2016 Report – Promise and Pitfalls (tierion.com)\n",
      "34 points by kysar_tom 3 hours ago  | hide | 19 comments \n",
      "\n",
      "\n",
      "11. N.S.A. Contractor Arrested in Possible New Theft of Secrets (nytimes.com)\n",
      "195 points by SuperKlaus 5 hours ago  | hide | 78 comments \n",
      "\n",
      "\n",
      "12. The Return of the Utopians (newyorker.com)\n",
      "10 points by pepys 1 hour ago  | hide | discuss \n",
      "\n",
      "\n",
      "13. Denmark is on its way to becoming an organic food country (foodrevolution.org)\n",
      "43 points by finid 1 hour ago  | hide | 49 comments \n",
      "\n",
      "\n",
      "14. Subpoenas and Gag Orders Show Government Overreach, Tech Companies Argue (nytimes.com)\n",
      "165 points by JumpCrisscross 5 hours ago  | hide | 36 comments \n",
      "\n",
      "\n",
      "15. The “Unmasking” of Elena Ferrante (newyorker.com)\n",
      "12 points by lermontov 1 hour ago  | hide | 6 comments \n",
      "\n",
      "\n",
      "16. Apps that send packages with the Shippo API (getputpost.co)\n",
      "46 points by robee 4 hours ago  | hide | 23 comments \n",
      "\n",
      "\n",
      "17. The Lightest Metal Ever (2015) [video] (boeing.com)\n",
      "37 points by lisper 4 hours ago  | hide | 35 comments \n",
      "\n",
      "\n",
      "18. Cloudflare and RSS (tedunangst.com)\n",
      "142 points by vog 3 hours ago  | hide | 61 comments \n",
      "\n",
      "\n",
      "19. Dramatically Reducing Software Vulnerabilities [pdf] (nist.gov)\n",
      "101 points by Dowwie 8 hours ago  | hide | 52 comments \n",
      "\n",
      "\n",
      "20. Vim Anti-Patterns (sanctum.geek.nz)\n",
      "282 points by microsage 7 hours ago  | hide | 164 comments \n",
      "\n",
      "\n",
      "21. Not OK, Google (techcrunch.com)\n",
      "538 points by CapitalistCartr 6 hours ago  | hide | 485 comments \n",
      "\n",
      "\n",
      "22. New Shepard In-Flight Escape Test [video] (blueorigin.com)\n",
      "83 points by obi1kenobi 7 hours ago  | hide | 38 comments \n",
      "\n",
      "\n",
      "23. Pixel smartphone camera review: At the top (dxomark.com)\n",
      "210 points by Simpliplant 10 hours ago  | hide | 219 comments \n",
      "\n",
      "\n",
      "24. Helping the homeless in San Francisco (atlassian.com)\n",
      "19 points by gitdude 52 minutes ago  | hide | 2 comments \n",
      "\n",
      "\n",
      "25. Texts in Sebald’s the Rings of Saturn (2013) (publicdomainreview.org)\n",
      "8 points by samclemens 2 hours ago  | hide | discuss \n",
      "\n",
      "\n",
      "26. Apptimize seeking hands-on growth product marketing leader (lever.co)\n",
      "2 hours ago | hide \n",
      "\n",
      "\n",
      "27. Textpattern CMS 4.6.1 released (textpattern.com)\n",
      "5 points by petecooper 28 minutes ago  | hide | discuss \n",
      "\n",
      "\n",
      "28. Twitter Is Expected to Field Bids This Week (wsj.com)\n",
      "130 points by daschaefer 7 hours ago  | hide | 222 comments \n",
      "\n",
      "\n",
      "29. Social Learning in Nature Is Ubiquitous (nautil.us)\n",
      "33 points by dnetesn 8 hours ago  | hide | discuss \n",
      "\n",
      "\n",
      "30. The Nobel Prize in Chemistry 2016 (nobelprize.org)\n",
      "101 points by dnetesn 10 hours ago  | hide | 19 comments \n",
      "\n",
      "More\n",
      "\n",
      "\n",
      "Guidelines\n",
      "        | FAQ\n",
      "        | Support\n",
      "        | API\n",
      "        | Security\n",
      "        | Lists\n",
      "        | Bookmarklet\n",
      "        | DMCA\n",
      "        | Apply to YC\n",
      "        | ContactSearch:\n",
      "          \n",
      " \n",
      "\n"
     ]
    }
   ],
   "source": [
    "# We can get all the text from elements in the HTML\n",
    "# to get an easy dataset for the webpage's text content\n",
    "print(soup.get_text())"
   ]
  },
  {
   "cell_type": "code",
   "execution_count": 22,
   "metadata": {
    "collapsed": false
   },
   "outputs": [
    {
     "name": "stdout",
     "output_type": "stream",
     "text": [
      "<a href=\"http://www.ycombinator.com\"><img height=\"18\" src=\"y18.gif\" style=\"border:1px white solid;\" width=\"18\"/></a>\n",
      "http://www.ycombinator.com\n",
      "news\n",
      "newest\n",
      "newcomments\n",
      "show\n",
      "ask\n",
      "jobs\n",
      "submit\n",
      "login?goto=news\n",
      "vote?id=12645661&how=up&goto=news\n",
      "https://www.parallella.org/2016/10/05/epiphany-v-a-1024-core-64-bit-risc-processor/?\n",
      "from?site=parallella.org\n",
      "user?id=ivank\n",
      "item?id=12645661\n",
      "hide?id=12645661&goto=news\n",
      "item?id=12645661\n",
      "vote?id=12646083&how=up&goto=news\n",
      "https://github.com/Gargron/mastodon\n",
      "from?site=github.com\n",
      "user?id=daveid\n",
      "item?id=12646083\n",
      "hide?id=12646083&goto=news\n",
      "item?id=12646083\n",
      "vote?id=12646511&how=up&goto=news\n",
      "https://www.typora.io/\n",
      "from?site=typora.io\n",
      "user?id=algorithmsRcool\n",
      "item?id=12646511\n",
      "hide?id=12646511&goto=news\n",
      "item?id=12646511\n",
      "vote?id=12646390&how=up&goto=news\n",
      "http://citeseerx.ist.psu.edu/viewdoc/download?doi=10.1.1.106.364&rep=rep1&type=pdf\n",
      "from?site=psu.edu\n",
      "user?id=adgasf\n",
      "item?id=12646390\n",
      "hide?id=12646390&goto=news\n",
      "item?id=12646390\n",
      "vote?id=12643978&how=up&goto=news\n",
      "http://www.vox.com/science-and-health/2016/9/30/13077658/statcheck-psychology-replication\n",
      "from?site=vox.com\n",
      "user?id=MollyR\n",
      "item?id=12643978\n",
      "hide?id=12643978&goto=news\n",
      "item?id=12643978\n",
      "vote?id=12646919&how=up&goto=news\n",
      "https://blog.kapeli.com/apple-removed-dash-from-the-app-store\n",
      "from?site=kapeli.com\n",
      "user?id=ingve\n",
      "item?id=12646919\n",
      "hide?id=12646919&goto=news\n",
      "item?id=12646919\n",
      "vote?id=12647574&how=up&goto=news\n",
      "http://www.nytimes.com/interactive/2016/10/09/magazine/big-food-photo-essay.html\n",
      "from?site=nytimes.com\n",
      "user?id=adriand\n",
      "item?id=12647574\n",
      "hide?id=12647574&goto=news\n",
      "item?id=12647574\n",
      "vote?id=12642824&how=up&goto=news\n",
      "http://www.nytimes.com/2016/10/06/technology/mailchimp-and-the-un-silicon-valley-way-to-make-it-as-a-start-up.html\n",
      "from?site=nytimes.com\n",
      "user?id=kellegous\n",
      "item?id=12642824\n",
      "hide?id=12642824&goto=news\n",
      "item?id=12642824\n",
      "vote?id=12646320&how=up&goto=news\n",
      "http://www.nytimes.com/2016/10/06/science/maximum-life-span-study.html\n",
      "from?site=nytimes.com\n",
      "user?id=helloworld\n",
      "item?id=12646320\n",
      "hide?id=12646320&goto=news\n",
      "item?id=12646320\n",
      "vote?id=12646220&how=up&goto=news\n",
      "https://tierion.com/blog/blockchain-healthcare-2016-report/?hn\n",
      "from?site=tierion.com\n",
      "user?id=kysar_tom\n",
      "item?id=12646220\n",
      "hide?id=12646220&goto=news\n",
      "item?id=12646220\n",
      "vote?id=12645210&how=up&goto=news\n",
      "https://www.nytimes.com/2016/10/06/us/nsa-leak-booz-allen-hamilton.html\n",
      "from?site=nytimes.com\n",
      "user?id=SuperKlaus\n",
      "item?id=12645210\n",
      "hide?id=12645210&goto=news\n",
      "item?id=12645210\n",
      "vote?id=12640150&how=up&goto=news\n",
      "http://www.newyorker.com/magazine/2016/10/03/the-return-of-the-utopians\n",
      "from?site=newyorker.com\n",
      "user?id=pepys\n",
      "item?id=12640150\n",
      "hide?id=12640150&goto=news\n",
      "item?id=12640150\n",
      "vote?id=12647495&how=up&goto=news\n",
      "http://foodrevolution.org/blog/denmark-organic-country\n",
      "from?site=foodrevolution.org\n",
      "user?id=finid\n",
      "item?id=12647495\n",
      "hide?id=12647495&goto=news\n",
      "item?id=12647495\n",
      "vote?id=12644678&how=up&goto=news\n",
      "http://www.nytimes.com/2016/10/05/technology/subpoenas-and-gag-orders-show-government-overreach-tech-companies-argue.html\n",
      "from?site=nytimes.com\n",
      "user?id=JumpCrisscross\n",
      "item?id=12644678\n",
      "hide?id=12644678&goto=news\n",
      "item?id=12644678\n",
      "vote?id=12635286&how=up&goto=news\n",
      "http://www.newyorker.com/culture/cultural-comment/the-unmasking-of-elena-ferrante\n",
      "from?site=newyorker.com\n",
      "user?id=lermontov\n",
      "item?id=12635286\n",
      "hide?id=12635286&goto=news\n",
      "item?id=12635286\n",
      "vote?id=12645525&how=up&goto=news\n",
      "https://getputpost.co/apps-that-send-packages-with-the-shippo-api-6184d909ccb1#.tn2wzmtmu\n",
      "from?site=getputpost.co\n",
      "user?id=robee\n",
      "item?id=12645525\n",
      "hide?id=12645525&goto=news\n",
      "item?id=12645525\n",
      "vote?id=12645473&how=up&goto=news\n",
      "http://www.boeing.com/features/2015/10/innovation-lightest-metal-10-15.page\n",
      "from?site=boeing.com\n",
      "user?id=lisper\n",
      "item?id=12645473\n",
      "hide?id=12645473&goto=news\n",
      "item?id=12645473\n",
      "vote?id=12646055&how=up&goto=news\n",
      "http://www.tedunangst.com/flak/post/cloudflare-and-rss\n",
      "from?site=tedunangst.com\n",
      "user?id=vog\n",
      "item?id=12646055\n",
      "hide?id=12646055&goto=news\n",
      "item?id=12646055\n",
      "vote?id=12643463&how=up&goto=news\n",
      "http://csrc.nist.gov/publications/drafts/nistir-8151/nistir8151_draft.pdf\n",
      "from?site=nist.gov\n",
      "user?id=Dowwie\n",
      "item?id=12643463\n",
      "hide?id=12643463&goto=news\n",
      "item?id=12643463\n",
      "vote?id=12643887&how=up&goto=news\n",
      "https://sanctum.geek.nz/arabesque/vim-anti-patterns/\n",
      "from?site=sanctum.geek.nz\n",
      "user?id=microsage\n",
      "item?id=12643887\n",
      "hide?id=12643887&goto=news\n",
      "item?id=12643887\n",
      "vote?id=12644604&how=up&goto=news\n",
      "https://techcrunch.com/2016/10/05/not-ok-google/\n",
      "from?site=techcrunch.com\n",
      "user?id=CapitalistCartr\n",
      "item?id=12644604\n",
      "hide?id=12644604&goto=news\n",
      "item?id=12644604\n",
      "vote?id=12643616&how=up&goto=news\n",
      "https://www.blueorigin.com/\n",
      "from?site=blueorigin.com\n",
      "user?id=obi1kenobi\n",
      "item?id=12643616\n",
      "hide?id=12643616&goto=news\n",
      "item?id=12643616\n",
      "vote?id=12642901&how=up&goto=news\n",
      "https://www.dxomark.com/Mobiles/Pixel-smartphone-camera-review-At-the-top\n",
      "from?site=dxomark.com\n",
      "user?id=Simpliplant\n",
      "item?id=12642901\n",
      "hide?id=12642901&goto=news\n",
      "item?id=12642901\n",
      "vote?id=12647606&how=up&goto=news\n",
      "http://blogs.atlassian.com/2016/10/san-francisco-homeless/\n",
      "from?site=atlassian.com\n",
      "user?id=gitdude\n",
      "item?id=12647606\n",
      "hide?id=12647606&goto=news\n",
      "item?id=12647606\n",
      "vote?id=12635118&how=up&goto=news\n",
      "http://publicdomainreview.org/collections/texts-in-sebalds-the-rings-of-saturn/\n",
      "from?site=publicdomainreview.org\n",
      "user?id=samclemens\n",
      "item?id=12635118\n",
      "hide?id=12635118&goto=news\n",
      "item?id=12635118\n",
      "https://jobs.lever.co/apptimize/224821f1-4d6c-43ff-bcd9-5192829bc90c\n",
      "from?site=lever.co\n",
      "item?id=12646654\n",
      "hide?id=12646654&goto=news\n",
      "vote?id=12647827&how=up&goto=news\n",
      "http://textpattern.com/weblog/392/textpattern-cms-461-released-hello-classic\n",
      "from?site=textpattern.com\n",
      "user?id=petecooper\n",
      "item?id=12647827\n",
      "hide?id=12647827&goto=news\n",
      "item?id=12647827\n",
      "vote?id=12643871&how=up&goto=news\n",
      "http://www.wsj.com/articles/twitter-is-expected-to-field-bids-this-week-1475621345\n",
      "from?site=wsj.com\n",
      "user?id=daschaefer\n",
      "item?id=12643871\n",
      "hide?id=12643871&goto=news\n",
      "item?id=12643871\n",
      "vote?id=12642791&how=up&goto=news\n",
      "http://nautil.us/blog/social-learning-in-nature-is-ubiquitous\n",
      "from?site=nautil.us\n",
      "user?id=dnetesn\n",
      "item?id=12642791\n",
      "hide?id=12642791&goto=news\n",
      "item?id=12642791\n",
      "vote?id=12642798&how=up&goto=news\n",
      "http://www.nobelprize.org/nobel_prizes/chemistry/laureates/2016/popular-chemistryprize2016.pdf\n",
      "from?site=nobelprize.org\n",
      "user?id=dnetesn\n",
      "item?id=12642798\n",
      "hide?id=12642798&goto=news\n",
      "item?id=12642798\n",
      "news?p=2\n",
      "newsguidelines.html\n",
      "newsfaq.html\n",
      "mailto:hn@ycombinator.com\n",
      "https://github.com/HackerNews/API\n",
      "security.html\n",
      "lists\n",
      "bookmarklet.html\n",
      "dmca.html\n",
      "http://www.ycombinator.com/apply/\n",
      "mailto:hn@ycombinator.com\n"
     ]
    }
   ],
   "source": [
    "print soup.a # This gives us the first link ('a') tag in the document\n",
    "\n",
    "# We can also iterate over all the link tags in a document\n",
    "for link in soup.find_all('a'):\n",
    "    print(link.get('href'))"
   ]
  },
  {
   "cell_type": "code",
   "execution_count": 30,
   "metadata": {
    "collapsed": false
   },
   "outputs": [
    {
     "name": "stdout",
     "output_type": "stream",
     "text": [
      "(u'Epiphany-V: A 1024-core 64-bit RISC processor', 'https://www.parallella.org/2016/10/05/epiphany-v-a-1024-core-64-bit-risc-processor/?')\n",
      "(u'Show HN: A new decentralized microblogging platform', 'https://github.com/Gargron/mastodon')\n",
      "(u'Typora \\u2013 A cross platform markdown editor', 'https://www.typora.io/')\n",
      "(u'Total Functional Programming [pdf]', 'http://citeseerx.ist.psu.edu/viewdoc/download?doi=10.1.1.106.364&rep=rep1&type=pdf')\n",
      "(u'A bot crawled thousands of studies looking for simple math errors', 'http://www.vox.com/science-and-health/2016/9/30/13077658/statcheck-psychology-replication')\n",
      "(u'Apple Has Removed Dash from the App Store', 'https://blog.kapeli.com/apple-removed-dash-from-the-app-store')\n",
      "(u'The Dizzying Grandeur of 21st Century Agriculture', 'http://www.nytimes.com/interactive/2016/10/09/magazine/big-food-photo-essay.html')\n",
      "(u'MailChimp\\u2019s founders built the company slowly by anticipating customers\\u2019 needs', 'http://www.nytimes.com/2016/10/06/technology/mailchimp-and-the-un-silicon-valley-way-to-make-it-as-a-start-up.html')\n",
      "(u\"What's the Longest Humans Can Live?\", 'http://www.nytimes.com/2016/10/06/science/maximum-life-span-study.html')\n",
      "(u'Blockchain Healthcare 2016 Report \\u2013 Promise and Pitfalls', 'https://tierion.com/blog/blockchain-healthcare-2016-report/?hn')\n",
      "(u'N.S.A. Contractor Arrested in Possible New Theft of Secrets', 'https://www.nytimes.com/2016/10/06/us/nsa-leak-booz-allen-hamilton.html')\n",
      "(u'The Return of the Utopians', 'http://www.newyorker.com/magazine/2016/10/03/the-return-of-the-utopians')\n",
      "(u'Denmark is on its way to becoming an organic food country', 'http://foodrevolution.org/blog/denmark-organic-country')\n",
      "(u'Subpoenas and Gag Orders Show Government Overreach, Tech Companies Argue', 'http://www.nytimes.com/2016/10/05/technology/subpoenas-and-gag-orders-show-government-overreach-tech-companies-argue.html')\n",
      "(u'The \\u201cUnmasking\\u201d of Elena Ferrante', 'http://www.newyorker.com/culture/cultural-comment/the-unmasking-of-elena-ferrante')\n",
      "(u'Apps that send packages with the Shippo API', 'https://getputpost.co/apps-that-send-packages-with-the-shippo-api-6184d909ccb1#.tn2wzmtmu')\n",
      "(u'The Lightest Metal Ever (2015) [video]', 'http://www.boeing.com/features/2015/10/innovation-lightest-metal-10-15.page')\n",
      "(u'Cloudflare and RSS', 'http://www.tedunangst.com/flak/post/cloudflare-and-rss')\n",
      "(u'Dramatically Reducing Software Vulnerabilities [pdf]', 'http://csrc.nist.gov/publications/drafts/nistir-8151/nistir8151_draft.pdf')\n",
      "(u'Vim Anti-Patterns', 'https://sanctum.geek.nz/arabesque/vim-anti-patterns/')\n",
      "(u'Not OK, Google', 'https://techcrunch.com/2016/10/05/not-ok-google/')\n",
      "(u'New Shepard In-Flight Escape Test [video]', 'https://www.blueorigin.com/')\n",
      "(u'Pixel smartphone camera review: At the top', 'https://www.dxomark.com/Mobiles/Pixel-smartphone-camera-review-At-the-top')\n",
      "(u'Helping the homeless in San Francisco', 'http://blogs.atlassian.com/2016/10/san-francisco-homeless/')\n",
      "(u'Texts in Sebald\\u2019s the Rings of Saturn (2013)', 'http://publicdomainreview.org/collections/texts-in-sebalds-the-rings-of-saturn/')\n",
      "(u'Apptimize seeking hands-on growth product marketing leader', 'https://jobs.lever.co/apptimize/224821f1-4d6c-43ff-bcd9-5192829bc90c')\n",
      "(u'Textpattern CMS 4.6.1 released', 'http://textpattern.com/weblog/392/textpattern-cms-461-released-hello-classic')\n",
      "(u'Twitter Is Expected to Field Bids This Week', 'http://www.wsj.com/articles/twitter-is-expected-to-field-bids-this-week-1475621345')\n",
      "(u'Social Learning in Nature Is Ubiquitous', 'http://nautil.us/blog/social-learning-in-nature-is-ubiquitous')\n",
      "(u'The Nobel Prize in Chemistry 2016', 'http://www.nobelprize.org/nobel_prizes/chemistry/laureates/2016/popular-chemistryprize2016.pdf')\n"
     ]
    }
   ],
   "source": [
    "# Suppose we know the class of an element we want to search for.\n",
    "# We can pass that in as a parameter to narrow our search\n",
    "for story_link in soup.find_all('a', {'class': 'storylink'}):\n",
    "    print(story_link.text, story_link.get('href'))"
   ]
  },
  {
   "cell_type": "code",
   "execution_count": 77,
   "metadata": {
    "collapsed": false
   },
   "outputs": [],
   "source": [
    "stories = []\n",
    "for news_row in soup.find_all('tr', {'class': 'athing'}):\n",
    "    # We can use the same commands on children nodes of the document\n",
    "    # (.find() returns the first found result)\n",
    "    story = news_row.find('a', {'class': 'storylink'})\n",
    "    story_name, story_link = story.text, story.get('href')\n",
    "\n",
    "    # We're not restricted just to searching up and down the document,\n",
    "    # We can search accross 'siblings'\n",
    "    meta_data_row = news_row.find_next_sibling('tr')\n",
    "    \n",
    "    score, comments = None, None\n",
    "    \n",
    "    # Need to check if the story has a score\n",
    "    if meta_data_row.find('span', {'class': 'score'}):\n",
    "        score = int(meta_data_row.find('span', {'class': 'score'}).text.split()[0])\n",
    "    \n",
    "    # If you know regular expressions, you can use those to search for patterns\n",
    "    # in the document\n",
    "    comments_pattern = re.compile(r'comments')\n",
    "    if meta_data_row.find('a', text=comments_pattern):\n",
    "        comments = int(meta_data_row.find('a', text=comments_pattern).text.split()[0])\n",
    "    \n",
    "    stories.append({\n",
    "            'name': story_name,\n",
    "            'link': story_link,\n",
    "            'score': score,\n",
    "            'comments': comments\n",
    "        })"
   ]
  },
  {
   "cell_type": "code",
   "execution_count": 87,
   "metadata": {
    "collapsed": false
   },
   "outputs": [
    {
     "data": {
      "text/plain": [
       "<matplotlib.axes._subplots.AxesSubplot at 0x10aefd410>"
      ]
     },
     "execution_count": 87,
     "metadata": {},
     "output_type": "execute_result"
    },
    {
     "data": {
      "image/png": "[encoded data removed]",
      "text/plain": [
       "<matplotlib.figure.Figure at 0x10b281150>"
      ]
     },
     "metadata": {},
     "output_type": "display_data"
    }
   ],
   "source": [
    "stories_df = pd.DataFrame(stories)\n",
    "stories_df.plot.scatter('comments', 'score')"
   ]
  },
  {
   "cell_type": "markdown",
   "metadata": {},
   "source": [
    "## Example 2: Crawling the Web"
   ]
  },
  {
   "cell_type": "markdown",
   "metadata": {},
   "source": [
    "# Challenges\n",
    "#### These may take you a bit longer! 😉\n",
    "\n",
    "## Challenge 1:\n",
    "Write a function that, given the name of a subreddit, will return you a DataFrame with the same data that we scraped from the HackerNews news page. (Story name / link, Score, and # of comments).\n",
    "\n",
    "(i.e. `subreddit_scraper('dataisbeautiful')` would be the function call)"
   ]
  },
  {
   "cell_type": "code",
   "execution_count": 89,
   "metadata": {
    "collapsed": false
   },
   "outputs": [],
   "source": [
    "def subreddit_scraper(sub_str):\n",
    "    pass"
   ]
  },
  {
   "cell_type": "code",
   "execution_count": null,
   "metadata": {
    "collapsed": true
   },
   "outputs": [],
   "source": []
  }
 ],
 "metadata": {
  "kernelspec": {
   "display_name": "Python 2",
   "language": "python",
   "name": "python2"
  },
  "language_info": {
   "codemirror_mode": {
    "name": "ipython",
    "version": 2
   },
   "file_extension": ".py",
   "mimetype": "text/x-python",
   "name": "python",
   "nbconvert_exporter": "python",
   "pygments_lexer": "ipython2",
   "version": "2.7.11"
  }
 },
 "nbformat": 4,
 "nbformat_minor": 0
}
