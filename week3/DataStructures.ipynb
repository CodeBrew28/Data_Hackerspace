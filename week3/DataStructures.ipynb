{
 "cells": [
  {
   "cell_type": "markdown",
   "metadata": {},
   "source": [
    "# Data Structures / Formats\n",
    "#### Attribution\n",
    "* Airplane Crash Data: https://opendata.socrata.com/Government/Airplane-Crashes-and-Fatalities-Since-1908/q2te-8cvq"
   ]
  },
  {
   "cell_type": "markdown",
   "metadata": {},
   "source": [
    "## Working with Files"
   ]
  },
  {
   "cell_type": "code",
   "execution_count": null,
   "metadata": {
    "collapsed": false
   },
   "outputs": [],
   "source": [
    "# The naive way\n",
    "f1 = open('important_text.txt', 'r')\n",
    "print f1.read()\n",
    "f1.close()"
   ]
  },
  {
   "cell_type": "code",
   "execution_count": null,
   "metadata": {
    "collapsed": false
   },
   "outputs": [],
   "source": [
    "# The Pythonic (good) way\n",
    "with open('important_text.txt') as f2:\n",
    "    print f2.read()\n",
    "\n",
    "# No need to call `f2.close`!\n",
    "# However, you can no longer access f2 outside of the context"
   ]
  },
  {
   "cell_type": "markdown",
   "metadata": {},
   "source": [
    "## Working with Data"
   ]
  },
  {
   "cell_type": "markdown",
   "metadata": {},
   "source": [
    "### JSON"
   ]
  },
  {
   "cell_type": "code",
   "execution_count": null,
   "metadata": {
    "collapsed": true
   },
   "outputs": [],
   "source": []
  },
  {
   "cell_type": "markdown",
   "metadata": {},
   "source": [
    "### CSV"
   ]
  },
  {
   "cell_type": "code",
   "execution_count": null,
   "metadata": {
    "collapsed": false
   },
   "outputs": [],
   "source": [
    "import csv\n",
    "\n",
    "with open('airplane_crashes.csv') as f:\n",
    "    csv_reader = csv.reader(f)\n",
    "    airplane_data = list(csv_reader)\n",
    "print airplane_data[0]\n"
   ]
  },
  {
   "cell_type": "code",
   "execution_count": null,
   "metadata": {
    "collapsed": false
   },
   "outputs": [],
   "source": [
    "from collections import defaultdict\n",
    "from datetime import datetime\n",
    "\n",
    "fatalities_per_year = defaultdict(int)\n",
    "for incident in airplane_data[1:]:\n",
    "    year = datetime(int(incident[0].split('/')[-1]), 1, 1)\n",
    "    num_fatalities = int(incident[11]) if incident[11] else 0\n",
    "    fatalities_per_year[year] += num_fatalities\n",
    "plt.scatter(*zip(*fatalities_per_year.items()))\n",
    "plt.ylim((0,200))\n",
    "plt.tight_layout()\n",
    "plt.ylabel(\"Airplane Fatalities per Year\")"
   ]
  },
  {
   "cell_type": "code",
   "execution_count": null,
   "metadata": {
    "collapsed": false
   },
   "outputs": [],
   "source": [
    "from collections import Counter\n",
    "import pprint\n",
    "\n",
    "aircraft_types = Counter(x[6] for x in airplane_data[1:])\n",
    "print(\"Most common aircraft in crashes:\")\n",
    "pprint.pprint(aircraft_types.most_common(10))\n",
    "\n",
    "fatal_aircraft_types = Counter(x[6] for x in airplane_data[1:] if x[11] and int(x[11]) > 0)\n",
    "print(\"\\nMost common aircraft in fatal crashes:\")\n",
    "pprint.pprint(fatal_aircraft_types.most_common(10))"
   ]
  },
  {
   "cell_type": "markdown",
   "metadata": {},
   "source": [
    "### Plain text"
   ]
  },
  {
   "cell_type": "code",
   "execution_count": null,
   "metadata": {
    "collapsed": true
   },
   "outputs": [],
   "source": []
  }
 ],
 "metadata": {
  "kernelspec": {
   "display_name": "Python 2",
   "language": "python",
   "name": "python2"
  },
  "language_info": {
   "codemirror_mode": {
    "name": "ipython",
    "version": 2
   },
   "file_extension": ".py",
   "mimetype": "text/x-python",
   "name": "python",
   "nbconvert_exporter": "python",
   "pygments_lexer": "ipython2",
   "version": "2.7.11"
  }
 },
 "nbformat": 4,
 "nbformat_minor": 0
}
