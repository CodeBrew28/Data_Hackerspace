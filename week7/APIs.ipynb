{
 "cells": [
  {
   "cell_type": "markdown",
   "metadata": {},
   "source": [
    "# APIs\n",
    "This week we'll be discussing how to get and process web from the web with Application Programming Interfaces."
   ]
  },
  {
   "cell_type": "code",
   "execution_count": null,
   "metadata": {
    "collapsed": false
   },
   "outputs": [],
   "source": [
    "# This is old\n",
    "import requests\n",
    "import json\n",
    "import matplotlib.pyplot as plt\n",
    "% matplotlib inline\n",
    "from datetime import datetime\n",
    "from bs4 import BeautifulSoup\n",
    "\n",
    "# These are new\n",
    "import tweepy\n",
    "\n",
    "# Load secret keys\n",
    "with open('api_keys.json') as f:\n",
    "    api_keys = json.loads(f.read())"
   ]
  },
  {
   "cell_type": "markdown",
   "metadata": {},
   "source": [
    "## Example 1: Bitcoin\n",
    "In this example, we'll go through the process of manually querying a Bitcoin API\n",
    "\n",
    "* You can find the API documentation [here](https://blockchain.info/api)"
   ]
  },
  {
   "cell_type": "code",
   "execution_count": null,
   "metadata": {
    "collapsed": false
   },
   "outputs": [],
   "source": [
    "# Getting exchange rates\n",
    "# (A simple API with no necessary parameters)\n",
    "r = requests.get('https://blockchain.info/ticker')\n",
    "print('status code: ' + str(r.status_code))\n",
    "r.json()"
   ]
  },
  {
   "cell_type": "code",
   "execution_count": null,
   "metadata": {
    "collapsed": false
   },
   "outputs": [],
   "source": [
    "# A more complicated API request\n",
    "# We can use a parameters dictionary to specify 'arguments' to the API\n",
    "params = {\n",
    "    'timespan': '1years',\n",
    "    'rollingAverage': '1days'\n",
    "}\n",
    "r = requests.get('https://api.blockchain.info/charts/estimated-transaction-volume-usd', params=params)\n",
    "print r.url\n",
    "data = r.json()\n",
    "data"
   ]
  },
  {
   "cell_type": "code",
   "execution_count": null,
   "metadata": {
    "collapsed": false
   },
   "outputs": [],
   "source": [
    "x_values = [datetime.fromtimestamp(t['x']) for t in data['values']]\n",
    "y_values = [t['y'] for t in data['values']]\n",
    "\n",
    "fig, ax = plt.subplots()\n",
    "ax.plot(x_values, y_values)\n",
    "fig.autofmt_xdate()"
   ]
  },
  {
   "cell_type": "markdown",
   "metadata": {},
   "source": [
    "## Example 2: Dictionary API (with API key)\n",
    "* You can read about the DictionaryAPI [here](http://www.dictionaryapi.com/)"
   ]
  },
  {
   "cell_type": "code",
   "execution_count": null,
   "metadata": {
    "collapsed": false
   },
   "outputs": [],
   "source": [
    "# We can write a simple API wrapper function to make using the API easier in the future\n",
    "def word_definitions(word):\n",
    "    # Here we'll load in our api key\n",
    "    params = {\n",
    "        'key': api_keys['dictionary_api_key']\n",
    "    }\n",
    "    # Constructing the full URL\n",
    "    url = 'http://www.dictionaryapi.com/api/v1/references/collegiate/xml/' + word\n",
    "    \n",
    "    # Passing parameters into the request and executing it\n",
    "    r = requests.get(url, params=params)\n",
    "    \n",
    "    # Using BeautifulSoup to parse the XML response (ew, XML...)\n",
    "    soup = BeautifulSoup(r.text, 'xml')\n",
    "    \n",
    "    # Scrape defns from the response\n",
    "    defs = []\n",
    "    for e in soup.find_all('entry'):\n",
    "        defs.append(e.find('dt').text)\n",
    "    return defs\n",
    "\n",
    "print(\"Soup:\")\n",
    "print('\\n'.join(word_definitions('soup')))\n",
    "\n",
    "print(\"\\nDank:\") \n",
    "print('\\n'.join(word_definitions('dank')))\n"
   ]
  },
  {
   "cell_type": "markdown",
   "metadata": {},
   "source": [
    "## Example 3: Twitter with Tweepy\n",
    "In this example, we'll show an example of accessing an API with a Python wrapper.\n",
    "\n",
    "* You can read the Tweepy documentation [here](https://tweepy.readthedocs.io/)\n",
    "* Get an API key by making an app [here](https://apps.twitter.com/)"
   ]
  },
  {
   "cell_type": "code",
   "execution_count": null,
   "metadata": {
    "collapsed": false
   },
   "outputs": [],
   "source": [
    "# Load API keys\n",
    "consumer_key = api_keys['consumer_key']\n",
    "consumer_secret = api_keys['consumer_secret']\n",
    "access_token = api_keys['access_token']\n",
    "access_token_secret = api_keys['access_token_secret']\n",
    "\n",
    "# Authenticate Tweepy\n",
    "auth = tweepy.OAuthHandler(consumer_key, consumer_secret)\n",
    "auth.set_access_token(access_token, access_token_secret)\n",
    "api = tweepy.API(auth)"
   ]
  },
  {
   "cell_type": "code",
   "execution_count": null,
   "metadata": {
    "collapsed": false
   },
   "outputs": [],
   "source": [
    "# Do magic\n",
    "elon = api.get_user('elonmusk')\n",
    "print('elon is followed by: ' + str(elon.followers_count))\n",
    "print('elon follows: ' + str(elon.friends_count))"
   ]
  },
  {
   "cell_type": "code",
   "execution_count": null,
   "metadata": {
    "collapsed": false
   },
   "outputs": [],
   "source": [
    "elon_tweets = api.user_timeline('elonmusk', count=10)\n",
    "for t in elon_tweets:\n",
    "    print(t.text + '\\n')"
   ]
  },
  {
   "cell_type": "code",
   "execution_count": null,
   "metadata": {
    "collapsed": false
   },
   "outputs": [],
   "source": [
    "# We can also send data to Twitter using Tweepy\n",
    "tweet = api.update_status(\"I'm teaching a lecture on APIs. Here's a tweet.\")\n",
    "print tweet.id\n",
    "print tweet.text\n",
    "print tweet.created_at"
   ]
  },
  {
   "cell_type": "code",
   "execution_count": null,
   "metadata": {
    "collapsed": false
   },
   "outputs": [],
   "source": [
    "# Streaming tweets is a great way of capturing lots of data\n",
    "# (You can get around the limits of Twitter searching)\n",
    "\n",
    "# Step 1) We need to create a class that will handle when we get new Tweets\n",
    "class MyStreamListener(tweepy.StreamListener):\n",
    "    \n",
    "    # This method will be called when new tweets come in\n",
    "    def on_status(self, status):\n",
    "        print(status.text)\n",
    "\n",
    "# Step 2) We need to setup a stream and tell Tweepy to send Tweets to our listener\n",
    "myStreamListener = MyStreamListener()\n",
    "myStream = tweepy.Stream(auth = api.auth, listener=myStreamListener)\n",
    "\n",
    "# Step 3) Turn on the Tweet Stream and track a particular phrase.\n",
    "myStream.filter(track=[u'pizza'], async=False)\n",
    "        "
   ]
  },
  {
   "cell_type": "markdown",
   "metadata": {},
   "source": [
    "# Challenges!"
   ]
  },
  {
   "cell_type": "code",
   "execution_count": null,
   "metadata": {
    "collapsed": true
   },
   "outputs": [],
   "source": []
  }
 ],
 "metadata": {
  "kernelspec": {
   "display_name": "Python 2",
   "language": "python",
   "name": "python2"
  },
  "language_info": {
   "codemirror_mode": {
    "name": "ipython",
    "version": 2
   },
   "file_extension": ".py",
   "mimetype": "text/x-python",
   "name": "python",
   "nbconvert_exporter": "python",
   "pygments_lexer": "ipython2",
   "version": "2.7.12"
  }
 },
 "nbformat": 4,
 "nbformat_minor": 0
}
