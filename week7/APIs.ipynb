{
 "cells": [
  {
   "cell_type": "markdown",
   "metadata": {},
   "source": [
    "# APIs\n",
    "This week we'll be discussing how to get and process web from the web with Application Programming Interfaces."
   ]
  },
  {
   "cell_type": "code",
   "execution_count": null,
   "metadata": {
    "collapsed": false
   },
   "outputs": [],
   "source": [
    "# This is old\n",
    "import requests\n",
    "import json\n",
    "import matplotlib.pyplot as plt\n",
    "% matplotlib inline\n",
    "from datetime import datetime\n",
    "\n",
    "\n",
    "# These are new\n",
    "import tweepy\n",
    "\n",
    "# Load secret keys\n",
    "with open('api_keys.json') as f:\n",
    "    api_keys = json.loads(f.read())"
   ]
  },
  {
   "cell_type": "markdown",
   "metadata": {},
   "source": [
    "## Example 1: Bitcoin\n",
    "In this example, we'll go through the process of manually querying a Bitcoin API\n",
    "(You can find the API documentation [here](https://blockchain.info/api))"
   ]
  },
  {
   "cell_type": "code",
   "execution_count": null,
   "metadata": {
    "collapsed": false
   },
   "outputs": [],
   "source": [
    "# Getting exchange rates\n",
    "# (A simple API with no necessary parameters)\n",
    "r = requests.get('https://blockchain.info/ticker')\n",
    "print('status code: ' + str(r.status_code))\n",
    "r.json()"
   ]
  },
  {
   "cell_type": "code",
   "execution_count": null,
   "metadata": {
    "collapsed": false
   },
   "outputs": [],
   "source": [
    "# A more complicated API request\n",
    "# We can use a parameters dictionary to specify 'arguments' to the API\n",
    "params = {\n",
    "    'timespan': '1years',\n",
    "    'rollingAverage': '1days'\n",
    "}\n",
    "r = requests.get('https://api.blockchain.info/charts/estimated-transaction-volume-usd', params=params)\n",
    "print r.url\n",
    "data = r.json()\n",
    "data"
   ]
  },
  {
   "cell_type": "code",
   "execution_count": null,
   "metadata": {
    "collapsed": false
   },
   "outputs": [],
   "source": [
    "x_values = [datetime.fromtimestamp(t['x']) for t in data['values']]\n",
    "y_values = [t['y'] for t in data['values']]\n",
    "\n",
    "fig, ax = plt.subplots()\n",
    "ax.plot(x_values, y_values)\n",
    "fig.autofmt_xdate()\n"
   ]
  },
  {
   "cell_type": "markdown",
   "metadata": {},
   "source": [
    "# Challenges!"
   ]
  },
  {
   "cell_type": "code",
   "execution_count": null,
   "metadata": {
    "collapsed": true
   },
   "outputs": [],
   "source": []
  }
 ],
 "metadata": {
  "kernelspec": {
   "display_name": "Python 2",
   "language": "python",
   "name": "python2"
  },
  "language_info": {
   "codemirror_mode": {
    "name": "ipython",
    "version": 2
   },
   "file_extension": ".py",
   "mimetype": "text/x-python",
   "name": "python",
   "nbconvert_exporter": "python",
   "pygments_lexer": "ipython2",
   "version": "2.7.12"
  }
 },
 "nbformat": 4,
 "nbformat_minor": 0
}
